{
 "cells": [
  {
   "cell_type": "code",
   "execution_count": 11,
   "metadata": {},
   "outputs": [],
   "source": [
    "# Process the data\n",
    "import numpy as np\n",
    "import pandas as pd\n",
    "import torch\n",
    "import torch.nn as nn\n",
    "from process_data import TextPreprocess, Vocabulary\n",
    "\n",
    "\n",
    "radonpy_data = pd.read_csv('./radonpy.csv')\n",
    "# Remove the space of column name\n",
    "radonpy_data.columns = radonpy_data.columns.str.replace(' ', '')\n",
    "\n",
    "smiles_list = radonpy_data['smiles'].tolist()\n",
    "\n",
    "smiles_process = TextPreprocess()\n",
    "word2index, index2word, word_count = smiles_process.create_vocabulary(smiles_list)\n",
    "\n"
   ]
  },
  {
   "cell_type": "code",
   "execution_count": 12,
   "metadata": {},
   "outputs": [],
   "source": [
    "from generative_model import VAE_Encoder, VAE_Decoder\n",
    "\n",
    "word_count = 200\n",
    "input_dim = 64\n",
    "latent_dim = 32\n",
    "nhead=1\n",
    "hidden_dim = 128\n",
    "output_dim = word_count\n",
    "\n",
    "encoder = VAE_Encoder(word_count=word_count, \n",
    "                      d_model=input_dim, \n",
    "                      latent_dim=latent_dim, \n",
    "                      nhead=nhead)\n",
    "\n",
    "decoder = VAE_Decoder(latent_dim=latent_dim,\n",
    "                      d_model=input_dim,\n",
    "                      hidden_dim=hidden_dim,\n",
    "                      output_dim=output_dim)"
   ]
  },
  {
   "cell_type": "code",
   "execution_count": 13,
   "metadata": {},
   "outputs": [
    {
     "data": {
      "text/plain": [
       "torch.Size([1077, 164])"
      ]
     },
     "execution_count": 13,
     "metadata": {},
     "output_type": "execute_result"
    }
   ],
   "source": [
    "x = smiles_process.text_to_index(smiles_list, padding=True)\n",
    "x = torch.tensor(x, dtype=torch.int64)  # Convert to torch.long data type\n",
    "x.shape"
   ]
  },
  {
   "cell_type": "code",
   "execution_count": 14,
   "metadata": {},
   "outputs": [
    {
     "data": {
      "text/plain": [
       "torch.Size([1077, 164, 64])"
      ]
     },
     "execution_count": 14,
     "metadata": {},
     "output_type": "execute_result"
    }
   ],
   "source": [
    "embedding_x = encoder.embedding(x)\n",
    "embedding_x.shape"
   ]
  },
  {
   "cell_type": "code",
   "execution_count": 15,
   "metadata": {},
   "outputs": [
    {
     "data": {
      "text/plain": [
       "(torch.Size([1077, 164, 32]),\n",
       " torch.Size([1077, 164, 32]),\n",
       " torch.Size([1077, 164, 32]))"
      ]
     },
     "execution_count": 15,
     "metadata": {},
     "output_type": "execute_result"
    }
   ],
   "source": [
    "z, mu, logvar = encoder(x)\n",
    "z.shape, mu.shape, logvar.shape"
   ]
  },
  {
   "cell_type": "code",
   "execution_count": 16,
   "metadata": {},
   "outputs": [
    {
     "data": {
      "text/plain": [
       "torch.Size([1077, 164, 64])"
      ]
     },
     "execution_count": 16,
     "metadata": {},
     "output_type": "execute_result"
    }
   ],
   "source": [
    "start_signal = torch.randint(0,37,(1077, 164))\n",
    "embedding_start_signal = encoder.embedding(start_signal)\n",
    "embedding_start_signal.shape"
   ]
  },
  {
   "cell_type": "code",
   "execution_count": 17,
   "metadata": {},
   "outputs": [
    {
     "data": {
      "text/plain": [
       "Sequential(\n",
       "  (0): Linear(in_features=32, out_features=64, bias=True)\n",
       "  (1): ReLU()\n",
       ")"
      ]
     },
     "execution_count": 17,
     "metadata": {},
     "output_type": "execute_result"
    }
   ],
   "source": [
    "new_linear = decoder.get_linear_layer(layer_dims=[32,64])\n",
    "new_linear"
   ]
  },
  {
   "cell_type": "code",
   "execution_count": 18,
   "metadata": {},
   "outputs": [
    {
     "data": {
      "text/plain": [
       "torch.Size([1077, 164, 64])"
      ]
     },
     "execution_count": 18,
     "metadata": {},
     "output_type": "execute_result"
    }
   ],
   "source": [
    "new_linear_z = new_linear(z)\n",
    "new_linear_z.shape"
   ]
  },
  {
   "cell_type": "code",
   "execution_count": 19,
   "metadata": {},
   "outputs": [
    {
     "name": "stdout",
     "output_type": "stream",
     "text": [
      "embedding_start_signal: torch.Size([1077, 164, 64])\n",
      "new_linear_z: torch.Size([1077, 164, 64])\n"
     ]
    }
   ],
   "source": [
    "print('embedding_start_signal:', embedding_start_signal.shape)\n",
    "print('new_linear_z:', new_linear_z.shape)"
   ]
  },
  {
   "cell_type": "code",
   "execution_count": null,
   "metadata": {},
   "outputs": [],
   "source": [
    "decoder_x = decoder_decoder_x = decoder.decoder(embedding_start_signal, new_linear_z)"
   ]
  },
  {
   "cell_type": "code",
   "execution_count": 30,
   "metadata": {},
   "outputs": [
    {
     "data": {
      "text/plain": [
       "(torch.Size([1077, 1, 64]), torch.Size([5, 1077, 64]))"
      ]
     },
     "execution_count": 30,
     "metadata": {},
     "output_type": "execute_result"
    }
   ],
   "source": [
    "rnn_layer = nn.RNN(input_size=32, hidden_size=64, num_layers=5, batch_first=True)\n",
    "\n",
    "rnn_test_x = torch.randn(1077, 1, 32)\n",
    "rnn_test_x_out, rnn_test_x_hidden = rnn_layer(rnn_test_x)\n",
    "rnn_test_x_out.shape, rnn_test_x_hidden.shape\n"
   ]
  },
  {
   "cell_type": "code",
   "execution_count": 29,
   "metadata": {},
   "outputs": [
    {
     "data": {
      "text/plain": [
       "(torch.Size([1077, 1, 64]), torch.Size([1, 1077, 64]))"
      ]
     },
     "execution_count": 29,
     "metadata": {},
     "output_type": "execute_result"
    }
   ],
   "source": [
    "rnn_test_x_out2, rnn_test_x_hidden2 = rnn_layer(rnn_test_x, rnn_test_x_hidden)\n",
    "rnn_test_x_out2.shape, rnn_test_x_hidden2.shape"
   ]
  },
  {
   "cell_type": "code",
   "execution_count": null,
   "metadata": {},
   "outputs": [],
   "source": []
  }
 ],
 "metadata": {
  "kernelspec": {
   "display_name": "torch",
   "language": "python",
   "name": "python3"
  },
  "language_info": {
   "codemirror_mode": {
    "name": "ipython",
    "version": 3
   },
   "file_extension": ".py",
   "mimetype": "text/x-python",
   "name": "python",
   "nbconvert_exporter": "python",
   "pygments_lexer": "ipython3",
   "version": "3.11.8"
  }
 },
 "nbformat": 4,
 "nbformat_minor": 2
}
